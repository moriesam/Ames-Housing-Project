{
 "cells": [
  {
   "cell_type": "markdown",
   "metadata": {},
   "source": [
    "## Creating RIDGE Regression Model :<br/>  to predict house sale price "
   ]
  },
  {
   "cell_type": "markdown",
   "metadata": {},
   "source": [
    "### Importing Packages &  Load Data "
   ]
  },
  {
   "cell_type": "code",
   "execution_count": 5,
   "metadata": {},
   "outputs": [],
   "source": [
    "import pandas as pd\n",
    "import numpy as np\n",
    "import seaborn as sns\n",
    "import matplotlib.pyplot as plt\n",
    "from sklearn.linear_model import LinearRegression, Lasso,LassoCV, Ridge, RidgeCV\n",
    "from sklearn.preprocessing import PolynomialFeatures, StandardScaler, PowerTransformer\n",
    "from sklearn.model_selection import train_test_split, cross_val_score, cross_val_predict\n",
    "from sklearn.metrics import r2_score\n",
    "from sklearn import metrics\n",
    "import pickle\n",
    "\n",
    "\n",
    "%matplotlib inline\n",
    "%config InlineBackend.figure_format = 'retina'\n"
   ]
  },
  {
   "cell_type": "code",
   "execution_count": 6,
   "metadata": {},
   "outputs": [],
   "source": [
    "#define the file path to import the cleaned dataset\n",
    "file_path = '../datasets/train_clean.csv'\n",
    "train = pd.read_csv(file_path)"
   ]
  },
  {
   "cell_type": "markdown",
   "metadata": {},
   "source": [
    "### Preprocessing & Modeling:"
   ]
  },
  {
   "cell_type": "markdown",
   "metadata": {},
   "source": [
    "The following columns are the selected features that will be used in our model:<br>\n",
    "- overall_qual\n",
    "- gr_live_area\n",
    "- garage_area\n",
    "- total_bsmt_sf\n",
    "- year_remod/add\n",
    "- totrms_abvgrd\n",
    "- 1st_flr_sf\n",
    "- year_built\n",
    "- fireplaces\n",
    "\n",
    "The `saleprice` is target; the column that model will be predicting.\n",
    "\n",
    "**From preprocessing to building the model:**<br>\n",
    "\n",
    "**1)** Creating features matrix (X) and target vector (y) - `features matrix`(X) = all  independence variables  and `target vector` (y) = dependant variabvle that model will predict:"
   ]
  },
  {
   "cell_type": "code",
   "execution_count": 7,
   "metadata": {},
   "outputs": [],
   "source": [
    "#creating `X` and `y` variables\n",
    "features = ['overall_qual','gr_liv_area', 'year_remod/add', 'totrms_abvgrd', \n",
    "'garage_area',  '1st_flr_sf', 'year_built', 'fireplaces']\n",
    "X = train[features] # feature matrix\n",
    "y = np.log(train['saleprice']) # target vector log treansformed to nomalize distribution "
   ]
  },
  {
   "cell_type": "markdown",
   "metadata": {},
   "source": [
    "**2)** Instantiate and fitting model:"
   ]
  },
  {
   "cell_type": "code",
   "execution_count": 8,
   "metadata": {},
   "outputs": [],
   "source": [
    "model = Ridge(alpha =10)"
   ]
  },
  {
   "cell_type": "code",
   "execution_count": 9,
   "metadata": {},
   "outputs": [
    {
     "data": {
      "text/plain": [
       "Ridge(alpha=10, copy_X=True, fit_intercept=True, max_iter=None, normalize=False,\n",
       "      random_state=None, solver='auto', tol=0.001)"
      ]
     },
     "execution_count": 9,
     "metadata": {},
     "output_type": "execute_result"
    }
   ],
   "source": [
    "model.fit(X, y)"
   ]
  },
  {
   "cell_type": "code",
   "execution_count": 10,
   "metadata": {},
   "outputs": [
    {
     "data": {
      "text/plain": [
       "0.8234632837582019"
      ]
     },
     "execution_count": 10,
     "metadata": {},
     "output_type": "execute_result"
    }
   ],
   "source": [
    "cross_val_score(model, X, y, cv=5).mean()"
   ]
  },
  {
   "cell_type": "markdown",
   "metadata": {},
   "source": [
    ">**2.1) Feature Engineering:** Before moving forward, checking to see if model score can be optimized through feature engineering - method used :<br>\n",
    "- `Interaction Terms` : combination of features matrix (creates an interation of one feature with anoher) \n",
    "\n",
    "As shown below, model $R^2$ got improved from 0.82 t0 0.85 - thus moving forward with the new featured model:  "
   ]
  },
  {
   "cell_type": "code",
   "execution_count": 11,
   "metadata": {},
   "outputs": [
    {
     "data": {
      "text/plain": [
       "0.8479025016280666"
      ]
     },
     "execution_count": 11,
     "metadata": {},
     "output_type": "execute_result"
    }
   ],
   "source": [
    "#using PolynomialFeatures for interaction terms  \n",
    "poly = PolynomialFeatures(include_bias=False)\n",
    "X_poly = poly.fit_transform(X)\n",
    "poly_model = Ridge(alpha =10)\n",
    "poly_model.fit(X_poly, y);\n",
    "cross_val_score(poly_model, X_poly, y, cv=5).mean()"
   ]
  },
  {
   "cell_type": "markdown",
   "metadata": {},
   "source": [
    "**3)** Splitting (X) and (y) into train and test sets:"
   ]
  },
  {
   "cell_type": "code",
   "execution_count": 12,
   "metadata": {},
   "outputs": [],
   "source": [
    "X_poly_train, X_poly_test, y_train, y_test = train_test_split(X_poly, y, random_state = 42)"
   ]
  },
  {
   "cell_type": "markdown",
   "metadata": {},
   "source": [
    ">**3.1)** Scaling features matrix to standardize the data. This helps to remove the mean and scaling to unit variance for more normal distribution:"
   ]
  },
  {
   "cell_type": "code",
   "execution_count": 13,
   "metadata": {},
   "outputs": [],
   "source": [
    "ss = StandardScaler()\n",
    "ss.fit(X_poly_train)\n",
    "X_train_sc = ss.transform(X_poly_train)\n",
    "X_test_sc = ss.transform(X_poly_test) \n"
   ]
  },
  {
   "cell_type": "code",
   "execution_count": 14,
   "metadata": {},
   "outputs": [],
   "source": [
    "#Set up a list of ridge alphas to check.\n",
    "r_alphas = np.logspace(0, 5, 100)\n",
    "\n",
    "\n",
    "# Cross-validate over our list of ridge alphas.\n",
    "poly_model = RidgeCV(alphas=r_alphas, scoring='r2', cv=5)\n",
    "\n",
    "# Fit model using best ridge alpha!\n",
    "poly_model = poly_model.fit(X_train_sc, y_train)"
   ]
  },
  {
   "cell_type": "markdown",
   "metadata": {},
   "source": [
    "Running `coef` and `intercept` to check the bias and coefficnet for each selected feature. in cells below, intercept indicates the average price for a house without any of the selected feature, while  coef indicates the expected price increase per added feature, holding all other variables constant. "
   ]
  },
  {
   "cell_type": "code",
   "execution_count": 15,
   "metadata": {},
   "outputs": [
    {
     "data": {
      "text/plain": [
       "12.022826060510466"
      ]
     },
     "execution_count": 15,
     "metadata": {},
     "output_type": "execute_result"
    }
   ],
   "source": [
    "poly_model.intercept_"
   ]
  },
  {
   "cell_type": "code",
   "execution_count": 16,
   "metadata": {},
   "outputs": [
    {
     "data": {
      "text/plain": [
       "array([ 0.0473178 ,  0.05088533,  0.02053311, -0.00915288,  0.01785316,\n",
       "        0.05610296,  0.02189749,  0.01545771, -0.0641333 ,  0.04577484,\n",
       "        0.04133184,  0.04074433,  0.03590428,  0.04921499,  0.03579742,\n",
       "       -0.0012328 , -0.03351934,  0.05654835,  0.00679751, -0.03187862,\n",
       "       -0.08620472,  0.05197826,  0.00159153,  0.02087799, -0.00214386,\n",
       "        0.01867691,  0.05758593,  0.01885064,  0.01206668, -0.00779345,\n",
       "        0.02084303, -0.03325675, -0.0061851 ,  0.01427533, -0.00382723,\n",
       "       -0.03859973,  0.01644998, -0.01304919, -0.07463843,  0.05708047,\n",
       "        0.01136729,  0.01437903,  0.00503368, -0.00051249])"
      ]
     },
     "execution_count": 16,
     "metadata": {},
     "output_type": "execute_result"
    }
   ],
   "source": [
    "poly_model.coef_"
   ]
  },
  {
   "cell_type": "markdown",
   "metadata": {},
   "source": [
    "**4)** Get the baseline score for both train/test sets (cross validation) for evaluation:"
   ]
  },
  {
   "cell_type": "code",
   "execution_count": 17,
   "metadata": {},
   "outputs": [
    {
     "data": {
      "text/plain": [
       "0.8414286744855085"
      ]
     },
     "execution_count": 17,
     "metadata": {},
     "output_type": "execute_result"
    }
   ],
   "source": [
    "#Look into train score\n",
    "cross_val_score(poly_model, X_train_sc, y_train, cv=5).mean()"
   ]
  },
  {
   "cell_type": "code",
   "execution_count": 18,
   "metadata": {},
   "outputs": [
    {
     "data": {
      "text/plain": [
       "0.8374374162967999"
      ]
     },
     "execution_count": 18,
     "metadata": {},
     "output_type": "execute_result"
    }
   ],
   "source": [
    "#Look into test score\n",
    "cross_val_score(poly_model, X_test_sc, y_test, cv=5).mean()"
   ]
  },
  {
   "cell_type": "markdown",
   "metadata": {},
   "source": [
    "**5)** Genereting model prediction and finding the line of best fit:"
   ]
  },
  {
   "cell_type": "code",
   "execution_count": 19,
   "metadata": {},
   "outputs": [],
   "source": [
    "#model predictions\n",
    "y_prediction_train = poly_model.predict(X_train_sc)"
   ]
  },
  {
   "cell_type": "code",
   "execution_count": 20,
   "metadata": {},
   "outputs": [],
   "source": [
    "#model predictions\n",
    "y_prediction_test = poly_model.predict(X_test_sc)"
   ]
  },
  {
   "cell_type": "code",
   "execution_count": 21,
   "metadata": {},
   "outputs": [
    {
     "data": {
      "text/plain": [
       "0.8582855025102268"
      ]
     },
     "execution_count": 21,
     "metadata": {},
     "output_type": "execute_result"
    }
   ],
   "source": [
    "metrics.r2_score(y_train, y_prediction_train)"
   ]
  },
  {
   "cell_type": "code",
   "execution_count": 22,
   "metadata": {},
   "outputs": [
    {
     "data": {
      "text/plain": [
       "0.8457144052059531"
      ]
     },
     "execution_count": 22,
     "metadata": {},
     "output_type": "execute_result"
    }
   ],
   "source": [
    "# 85% of the variance in the dependant variable can be exlained by this model.\n",
    "metrics.r2_score(y_test, y_prediction_test)"
   ]
  },
  {
   "cell_type": "code",
   "execution_count": 23,
   "metadata": {},
   "outputs": [],
   "source": [
    "residual_test = y_test - y_prediction_test"
   ]
  },
  {
   "cell_type": "code",
   "execution_count": 24,
   "metadata": {},
   "outputs": [],
   "source": [
    "residual_train = y_train - y_prediction_train"
   ]
  },
  {
   "cell_type": "markdown",
   "metadata": {},
   "source": [
    "Plotting residual to check if variance between our low predictions and our high predictions is considtent, the plot below shows that our target is almost normally distributed. However, it might require normalization for features with extreme outlier: "
   ]
  },
  {
   "cell_type": "code",
   "execution_count": 25,
   "metadata": {},
   "outputs": [
    {
     "data": {
      "image/png": "[encoded data removed]",
      "text/plain": [
       "<Figure size 432x288 with 1 Axes>"
      ]
     },
     "metadata": {
      "image/png": {
       "height": 248,
       "width": 377
      },
      "needs_background": "light"
     },
     "output_type": "display_data"
    }
   ],
   "source": [
    "plt.hist(residual_test, bins = 20, )\n",
    "plt.axvline(0, color = 'purple');\n",
    "plt.savefig('../plots/residual_hist.png')\n",
    "#plt.title('Residual (sale price  - actual vs predicted)', fontsize = 12);"
   ]
  },
  {
   "cell_type": "code",
   "execution_count": 26,
   "metadata": {
    "scrolled": false
   },
   "outputs": [
    {
     "data": {
      "image/png": "[encoded data removed]",
      "text/plain": [
       "<Figure size 432x288 with 1 Axes>"
      ]
     },
     "metadata": {
      "image/png": {
       "height": 261,
       "width": 408
      },
      "needs_background": "light"
     },
     "output_type": "display_data"
    }
   ],
   "source": [
    "\n",
    "sns.regplot(np.exp(y_prediction_test), np.exp(y_test), color='purple')\n",
    "plt.xlabel(\" Predicted sale price\")\n",
    "plt.ylabel(\"Actual sale price\");\n",
    "#plt.title(\"Line of Best Fit\", fontsize = 12);"
   ]
  },
  {
   "cell_type": "code",
   "execution_count": 27,
   "metadata": {},
   "outputs": [
    {
     "data": {
      "image/png": "[encoded data removed]",
      "text/plain": [
       "<Figure size 432x288 with 1 Axes>"
      ]
     },
     "metadata": {
      "image/png": {
       "height": 262,
       "width": 394
      },
      "needs_background": "light"
     },
     "output_type": "display_data"
    }
   ],
   "source": [
    "plt.scatter(np.exp(y_prediction_test), residual_test, color = 'purple')\n",
    "plt.axhline(0, color='b');\n",
    "plt.xlabel(\"residual_test\")\n",
    "plt.ylabel(\"prediction_test\")\n",
    "plt.savefig('../plots/prediction_residual.png')"
   ]
  },
  {
   "cell_type": "markdown",
   "metadata": {},
   "source": [
    "**Regression Metrics:** "
   ]
  },
  {
   "cell_type": "markdown",
   "metadata": {},
   "source": [
    "**MAE** shows by average our model is 0.11 point off:"
   ]
  },
  {
   "cell_type": "code",
   "execution_count": 28,
   "metadata": {},
   "outputs": [
    {
     "data": {
      "text/plain": [
       "0.1098980277884912"
      ]
     },
     "execution_count": 28,
     "metadata": {},
     "output_type": "execute_result"
    }
   ],
   "source": [
    "# TRAIN - Mean Absolute Error represents median distance from the predicted value.\n",
    "metrics.mean_absolute_error(y_train,y_prediction_train)"
   ]
  },
  {
   "cell_type": "code",
   "execution_count": 29,
   "metadata": {},
   "outputs": [
    {
     "data": {
      "text/plain": [
       "0.10832391190888892"
      ]
     },
     "execution_count": 29,
     "metadata": {},
     "output_type": "execute_result"
    }
   ],
   "source": [
    "#TEST - Mean Absolute Error represents median distance from the predicted value.\n",
    "metrics.mean_absolute_error(y_test,y_prediction_test)"
   ]
  },
  {
   "cell_type": "markdown",
   "metadata": {},
   "source": [
    "**MSE** is the average sum of all errors squared and should be as close to 0 as possible. our model shows a low MSE for both train /test sets. this indicates that the model is fairly fit."
   ]
  },
  {
   "cell_type": "code",
   "execution_count": 30,
   "metadata": {},
   "outputs": [
    {
     "data": {
      "text/plain": [
       "0.02349569366978727"
      ]
     },
     "execution_count": 30,
     "metadata": {},
     "output_type": "execute_result"
    }
   ],
   "source": [
    "# TRAIN - Mean Squarred Error represents avg distance squared from the predicted value.\n",
    "metrics.mean_squared_error(y_train, y_prediction_train)"
   ]
  },
  {
   "cell_type": "code",
   "execution_count": 31,
   "metadata": {},
   "outputs": [
    {
     "data": {
      "text/plain": [
       "0.02761262850963719"
      ]
     },
     "execution_count": 31,
     "metadata": {},
     "output_type": "execute_result"
    }
   ],
   "source": [
    "#TEST - Mean Squarred Error represents avg distance squared from the predicted value.\n",
    "metrics.mean_squared_error(y_test, y_prediction_test)"
   ]
  },
  {
   "cell_type": "markdown",
   "metadata": {},
   "source": [
    "**RMSE** the goal is always to get RMSE as close to 0 as possible - RMSE indicates that the model is approx off by +/-$27K when predicting the house's sale price."
   ]
  },
  {
   "cell_type": "code",
   "execution_count": 32,
   "metadata": {},
   "outputs": [
    {
     "data": {
      "text/plain": [
       "26128.48454154821"
      ]
     },
     "execution_count": 32,
     "metadata": {},
     "output_type": "execute_result"
    }
   ],
   "source": [
    "#TRAIN - Root Mean Squared Error represents avg distance from the predicted value.\n",
    "#using np.exp to inverse the log transform for saleprice\n",
    "np.sqrt(metrics.mean_squared_error(np.exp(y_test), np.exp(y_prediction_test)))"
   ]
  },
  {
   "cell_type": "code",
   "execution_count": 33,
   "metadata": {},
   "outputs": [
    {
     "data": {
      "text/plain": [
       "28389.247922588605"
      ]
     },
     "execution_count": 33,
     "metadata": {},
     "output_type": "execute_result"
    }
   ],
   "source": [
    "#TEST- Root Mean Squared Error represents avg distance from the predicted value.\n",
    "np.sqrt(metrics.mean_squared_error(np.exp(y_train), np.exp(y_prediction_train)))"
   ]
  },
  {
   "cell_type": "code",
   "execution_count": 34,
   "metadata": {},
   "outputs": [
    {
     "data": {
      "text/html": [
       "<table class=\"simpletable\">\n",
       "<caption>OLS Regression Results</caption>\n",
       "<tr>\n",
       "  <th>Dep. Variable:</th>        <td>saleprice</td>    <th>  R-squared (uncentered):</th>      <td>   1.000</td> \n",
       "</tr>\n",
       "<tr>\n",
       "  <th>Model:</th>                   <td>OLS</td>       <th>  Adj. R-squared (uncentered):</th> <td>   1.000</td> \n",
       "</tr>\n",
       "<tr>\n",
       "  <th>Method:</th>             <td>Least Squares</td>  <th>  F-statistic:       </th>          <td>1.257e+06</td>\n",
       "</tr>\n",
       "<tr>\n",
       "  <th>Date:</th>             <td>Wed, 15 Jan 2020</td> <th>  Prob (F-statistic):</th>           <td>  0.00</td>  \n",
       "</tr>\n",
       "<tr>\n",
       "  <th>Time:</th>                 <td>17:44:47</td>     <th>  Log-Likelihood:    </th>          <td>  706.10</td> \n",
       "</tr>\n",
       "<tr>\n",
       "  <th>No. Observations:</th>      <td>  2051</td>      <th>  AIC:               </th>          <td>  -1396.</td> \n",
       "</tr>\n",
       "<tr>\n",
       "  <th>Df Residuals:</th>          <td>  2043</td>      <th>  BIC:               </th>          <td>  -1351.</td> \n",
       "</tr>\n",
       "<tr>\n",
       "  <th>Df Model:</th>              <td>     8</td>      <th>                     </th>              <td> </td>    \n",
       "</tr>\n",
       "<tr>\n",
       "  <th>Covariance Type:</th>      <td>nonrobust</td>    <th>                     </th>              <td> </td>    \n",
       "</tr>\n",
       "</table>\n",
       "<table class=\"simpletable\">\n",
       "<tr>\n",
       "         <td></td>           <th>coef</th>     <th>std err</th>      <th>t</th>      <th>P>|t|</th>  <th>[0.025</th>    <th>0.975]</th>  \n",
       "</tr>\n",
       "<tr>\n",
       "  <th>overall_qual</th>   <td>    0.0963</td> <td>    0.004</td> <td>   25.889</td> <td> 0.000</td> <td>    0.089</td> <td>    0.104</td>\n",
       "</tr>\n",
       "<tr>\n",
       "  <th>gr_liv_area</th>    <td>    0.0002</td> <td> 1.63e-05</td> <td>   10.506</td> <td> 0.000</td> <td>    0.000</td> <td>    0.000</td>\n",
       "</tr>\n",
       "<tr>\n",
       "  <th>year_remod/add</th> <td>    0.0032</td> <td>    0.000</td> <td>   18.664</td> <td> 0.000</td> <td>    0.003</td> <td>    0.004</td>\n",
       "</tr>\n",
       "<tr>\n",
       "  <th>totrms_abvgrd</th>  <td>    0.0058</td> <td>    0.004</td> <td>    1.361</td> <td> 0.174</td> <td>   -0.003</td> <td>    0.014</td>\n",
       "</tr>\n",
       "<tr>\n",
       "  <th>garage_area</th>    <td>    0.0002</td> <td>  2.3e-05</td> <td>    9.315</td> <td> 0.000</td> <td>    0.000</td> <td>    0.000</td>\n",
       "</tr>\n",
       "<tr>\n",
       "  <th>1st_flr_sf</th>     <td>    0.0001</td> <td> 1.25e-05</td> <td>    9.573</td> <td> 0.000</td> <td> 9.53e-05</td> <td>    0.000</td>\n",
       "</tr>\n",
       "<tr>\n",
       "  <th>year_built</th>     <td>    0.0023</td> <td>    0.000</td> <td>   13.359</td> <td> 0.000</td> <td>    0.002</td> <td>    0.003</td>\n",
       "</tr>\n",
       "<tr>\n",
       "  <th>fireplaces</th>     <td>    0.0792</td> <td>    0.007</td> <td>   11.477</td> <td> 0.000</td> <td>    0.066</td> <td>    0.093</td>\n",
       "</tr>\n",
       "</table>\n",
       "<table class=\"simpletable\">\n",
       "<tr>\n",
       "  <th>Omnibus:</th>       <td>1561.963</td> <th>  Durbin-Watson:     </th> <td>   2.040</td> \n",
       "</tr>\n",
       "<tr>\n",
       "  <th>Prob(Omnibus):</th>  <td> 0.000</td>  <th>  Jarque-Bera (JB):  </th> <td>84293.109</td>\n",
       "</tr>\n",
       "<tr>\n",
       "  <th>Skew:</th>           <td>-3.070</td>  <th>  Prob(JB):          </th> <td>    0.00</td> \n",
       "</tr>\n",
       "<tr>\n",
       "  <th>Kurtosis:</th>       <td>33.801</td>  <th>  Cond. No.          </th> <td>6.27e+03</td> \n",
       "</tr>\n",
       "</table><br/><br/>Warnings:<br/>[1] Standard Errors assume that the covariance matrix of the errors is correctly specified.<br/>[2] The condition number is large, 6.27e+03. This might indicate that there are<br/>strong multicollinearity or other numerical problems."
      ],
      "text/plain": [
       "<class 'statsmodels.iolib.summary.Summary'>\n",
       "\"\"\"\n",
       "                                 OLS Regression Results                                \n",
       "=======================================================================================\n",
       "Dep. Variable:              saleprice   R-squared (uncentered):                   1.000\n",
       "Model:                            OLS   Adj. R-squared (uncentered):              1.000\n",
       "Method:                 Least Squares   F-statistic:                          1.257e+06\n",
       "Date:                Wed, 15 Jan 2020   Prob (F-statistic):                        0.00\n",
       "Time:                        17:44:47   Log-Likelihood:                          706.10\n",
       "No. Observations:                2051   AIC:                                     -1396.\n",
       "Df Residuals:                    2043   BIC:                                     -1351.\n",
       "Df Model:                           8                                                  \n",
       "Covariance Type:            nonrobust                                                  \n",
       "==================================================================================\n",
       "                     coef    std err          t      P>|t|      [0.025      0.975]\n",
       "----------------------------------------------------------------------------------\n",
       "overall_qual       0.0963      0.004     25.889      0.000       0.089       0.104\n",
       "gr_liv_area        0.0002   1.63e-05     10.506      0.000       0.000       0.000\n",
       "year_remod/add     0.0032      0.000     18.664      0.000       0.003       0.004\n",
       "totrms_abvgrd      0.0058      0.004      1.361      0.174      -0.003       0.014\n",
       "garage_area        0.0002    2.3e-05      9.315      0.000       0.000       0.000\n",
       "1st_flr_sf         0.0001   1.25e-05      9.573      0.000    9.53e-05       0.000\n",
       "year_built         0.0023      0.000     13.359      0.000       0.002       0.003\n",
       "fireplaces         0.0792      0.007     11.477      0.000       0.066       0.093\n",
       "==============================================================================\n",
       "Omnibus:                     1561.963   Durbin-Watson:                   2.040\n",
       "Prob(Omnibus):                  0.000   Jarque-Bera (JB):            84293.109\n",
       "Skew:                          -3.070   Prob(JB):                         0.00\n",
       "Kurtosis:                      33.801   Cond. No.                     6.27e+03\n",
       "==============================================================================\n",
       "\n",
       "Warnings:\n",
       "[1] Standard Errors assume that the covariance matrix of the errors is correctly specified.\n",
       "[2] The condition number is large, 6.27e+03. This might indicate that there are\n",
       "strong multicollinearity or other numerical problems.\n",
       "\"\"\""
      ]
     },
     "execution_count": 34,
     "metadata": {},
     "output_type": "execute_result"
    }
   ],
   "source": [
    "# Importing the stats model API\n",
    "import statsmodels.api as sm\n",
    "# The Default here is Linear Regression (ordinary least squares regression OLS)\n",
    "model = sm.OLS(y,X).fit()\n",
    "model.summary()"
   ]
  },
  {
   "cell_type": "markdown",
   "metadata": {},
   "source": [
    "Below cell shows the impact of each feature on property's sale price, for example,  if the house has a fireplace, we expect to see about 8% increase in the sale price."
   ]
  },
  {
   "cell_type": "code",
   "execution_count": 35,
   "metadata": {},
   "outputs": [
    {
     "data": {
      "text/plain": [
       "overall_qual      1.101055\n",
       "gr_liv_area       1.000172\n",
       "year_remod/add    1.003178\n",
       "totrms_abvgrd     1.005827\n",
       "garage_area       1.000214\n",
       "1st_flr_sf        1.000120\n",
       "year_built        1.002314\n",
       "fireplaces        1.082466\n",
       "dtype: float64"
      ]
     },
     "execution_count": 35,
     "metadata": {},
     "output_type": "execute_result"
    }
   ],
   "source": [
    "np.exp(model.params)"
   ]
  },
  {
   "cell_type": "markdown",
   "metadata": {},
   "source": [
    "#### Conclusion and Recommendations:\n",
    "\n",
    "As of now **`84.6%`** of variance in the sale price can be explained by this model, indicating that the model is just right. In other words,  model can generalize from train/test data to predict the house value, with **`+/-$28K`** price error. This model is built using numeric datasets, and can be improved by leveraging feature engineerign to include few key features like Neighborhood  by leveraincluding some key features like Neighborgood, style and materials. Nevertheless, this model can be used for the following purposes:<br>\n",
    "\n",
    "<>**Prediction**<> <br>\n",
    "This model can be used for any dataset that includes similar attributes on house features to predict the property's selling price.<br>\n",
    "\n",
    "<>**Inference**<> <br>\n",
    "This model can be used to outline and test some of the most important factors/features that influence house's value. "
   ]
  }
 ],
 "metadata": {
  "kernelspec": {
   "display_name": "Python 3",
   "language": "python",
   "name": "python3"
  },
  "language_info": {
   "codemirror_mode": {
    "name": "ipython",
    "version": 3
   },
   "file_extension": ".py",
   "mimetype": "text/x-python",
   "name": "python",
   "nbconvert_exporter": "python",
   "pygments_lexer": "ipython3",
   "version": "3.7.4"
  }
 },
 "nbformat": 4,
 "nbformat_minor": 2
}
