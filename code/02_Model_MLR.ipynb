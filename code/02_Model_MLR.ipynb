{
 "cells": [
  {
   "cell_type": "markdown",
   "metadata": {},
   "source": [
    "## Creating Regression Model:<br/>  to predict house sale price "
   ]
  },
  {
   "cell_type": "markdown",
   "metadata": {},
   "source": [
    "### Importing Packages &  Load Data "
   ]
  },
  {
   "cell_type": "code",
   "execution_count": 2,
   "metadata": {},
   "outputs": [],
   "source": [
    "import pandas as pd\n",
    "import numpy as np\n",
    "import seaborn as sns\n",
    "import matplotlib.pyplot as plt\n",
    "from sklearn.linear_model import LinearRegression, LassoCV, RidgeCV\n",
    "from sklearn.preprocessing import PolynomialFeatures, StandardScaler, PowerTransformer\n",
    "from sklearn.model_selection import train_test_split, cross_val_score, cross_val_predict\n",
    "from sklearn.metrics import r2_score\n",
    "from sklearn import metrics\n",
    "import pickle\n",
    "\n",
    "\n",
    "%matplotlib inline\n",
    "%config InlineBackend.figure_format = 'retina'\n"
   ]
  },
  {
   "cell_type": "code",
   "execution_count": 3,
   "metadata": {},
   "outputs": [],
   "source": [
    "#define the file path to import the cleaned dataset\n",
    "file_path = '../datasets/train_clean.csv'\n",
    "train = pd.read_csv(file_path)"
   ]
  },
  {
   "cell_type": "markdown",
   "metadata": {},
   "source": [
    "### Preprocessing & Modeling:"
   ]
  },
  {
   "cell_type": "markdown",
   "metadata": {},
   "source": [
    "The following columns are the selected features that will be used in our model:<br>\n",
    "- overall_qual\n",
    "- gr_live_area\n",
    "- garage_area\n",
    "- total_bsmt_sf\n",
    "- year_remod/add\n",
    "- totrms_abvgrd\n",
    "- 1st_flr_sf\n",
    "- year_built\n",
    "- fireplaces\n",
    "\n",
    "The `saleprice` is target; the column that model will be predicting.\n",
    "\n",
    "**From preprocessing to building the model:**<br>\n",
    "\n",
    "**1)** Creating features matrix (X) and target vector (y) - `features matrix`(X) = all  independence variables  and `target vector` (y) = dependant variabvle that model will predict:"
   ]
  },
  {
   "cell_type": "code",
   "execution_count": 4,
   "metadata": {},
   "outputs": [],
   "source": [
    "#creating `X` and `y` variables\n",
    "features = ['overall_qual','gr_liv_area', 'year_remod/add', 'totrms_abvgrd', \n",
    "'garage_area',  '1st_flr_sf', 'year_built', 'fireplaces']\n",
    "X = train[features] # feature matrix\n",
    "y = np.log(train['saleprice']) # target vector log treansformed to nomalize distribution "
   ]
  },
  {
   "cell_type": "markdown",
   "metadata": {},
   "source": [
    "**2)** Instantiate and fitting model:"
   ]
  },
  {
   "cell_type": "code",
   "execution_count": 5,
   "metadata": {},
   "outputs": [],
   "source": [
    "model = LinearRegression()"
   ]
  },
  {
   "cell_type": "code",
   "execution_count": 6,
   "metadata": {},
   "outputs": [
    {
     "data": {
      "text/plain": [
       "LinearRegression(copy_X=True, fit_intercept=True, n_jobs=None, normalize=False)"
      ]
     },
     "execution_count": 6,
     "metadata": {},
     "output_type": "execute_result"
    }
   ],
   "source": [
    "model.fit(X, y)"
   ]
  },
  {
   "cell_type": "code",
   "execution_count": 7,
   "metadata": {},
   "outputs": [
    {
     "data": {
      "text/plain": [
       "0.8234604829473298"
      ]
     },
     "execution_count": 7,
     "metadata": {},
     "output_type": "execute_result"
    }
   ],
   "source": [
    "cross_val_score(model, X, y, cv=5).mean()"
   ]
  },
  {
   "cell_type": "markdown",
   "metadata": {},
   "source": [
    ">**2.1) Feature Engineering:** Before moving forward, checking to see if model score can be optimized through feature engineering - method used :<br>\n",
    "- `Interaction Terms` : combination of features matrix (creates an interation of one feature with anoher) \n",
    "\n",
    "As shown below, model $R^2$ got improved from 0.82 t0 0.85 - thus moving forward with the new featured model:  "
   ]
  },
  {
   "cell_type": "code",
   "execution_count": 8,
   "metadata": {},
   "outputs": [
    {
     "data": {
      "text/plain": [
       "0.8498186593901492"
      ]
     },
     "execution_count": 8,
     "metadata": {},
     "output_type": "execute_result"
    }
   ],
   "source": [
    "#using PolynomialFeatures for interaction terms  \n",
    "poly = PolynomialFeatures(include_bias=False)\n",
    "X_poly = poly.fit_transform(X)\n",
    "poly_model = LinearRegression()\n",
    "poly_model.fit(X_poly, y);\n",
    "cross_val_score(model, X_poly, y, cv=5).mean()"
   ]
  },
  {
   "cell_type": "markdown",
   "metadata": {},
   "source": [
    "**3)** Splitting (X) and (y) into train and test sets:"
   ]
  },
  {
   "cell_type": "code",
   "execution_count": 9,
   "metadata": {},
   "outputs": [],
   "source": [
    "X_poly_train, X_poly_test, y_train, y_test = train_test_split(X_poly, y, random_state = 42)"
   ]
  },
  {
   "cell_type": "markdown",
   "metadata": {},
   "source": [
    ">**3.1)** Scaling features matrix to standardize the data. This helps to remove the mean and scaling to unit variance for more normal distribution:"
   ]
  },
  {
   "cell_type": "code",
   "execution_count": 10,
   "metadata": {},
   "outputs": [],
   "source": [
    "ss = StandardScaler()\n",
    "ss.fit(X_poly_train)\n",
    "X_train_sc = ss.transform(X_poly_train)\n",
    "X_test_sc = ss.transform(X_poly_test) \n",
    "poly_model.fit(X_train_sc, y_train);"
   ]
  },
  {
   "cell_type": "markdown",
   "metadata": {},
   "source": [
    "Running `coef` and `intercept` to check the bias and coefficnet for each selected feature. in cells below, intercept indicates the average price for a house without any of the selected feature, while  coef indicates the expected price increase per added feature, holding all other variables constant. "
   ]
  },
  {
   "cell_type": "code",
   "execution_count": 11,
   "metadata": {},
   "outputs": [
    {
     "data": {
      "text/plain": [
       "12.022826060510514"
      ]
     },
     "execution_count": 11,
     "metadata": {},
     "output_type": "execute_result"
    }
   ],
   "source": [
    "poly_model.intercept_"
   ]
  },
  {
   "cell_type": "code",
   "execution_count": 12,
   "metadata": {},
   "outputs": [
    {
     "data": {
      "text/plain": [
       "array([ 1.16616990e+00, -3.55253778e+00, -5.71290545e+00,  1.29531596e+00,\n",
       "        1.68204110e-01, -7.36568533e-01,  4.54633226e+00,  1.92435385e+00,\n",
       "       -2.32075326e-01,  6.31336760e-02, -1.21280409e+00,  3.84902647e-02,\n",
       "        1.23993976e-01,  8.83706160e-02,  2.37864825e-01,  4.69149534e-02,\n",
       "       -1.80051665e-02,  4.19798298e+00,  9.15302808e-02, -1.75668552e-01,\n",
       "       -2.82527890e-01, -3.56443173e-01,  3.64604646e-02,  6.63231422e+00,\n",
       "       -7.09154887e-01,  1.11276417e-01, -1.42461999e+00, -1.91031094e+00,\n",
       "       -4.46382932e-01, -4.25734603e-02,  1.61927254e-01, -7.41100866e-02,\n",
       "       -6.52942405e-01, -2.90272213e-02,  4.74363570e-03, -6.81605610e-02,\n",
       "       -3.04415137e-01,  7.90577255e-03,  3.68238744e-02,  2.36429675e+00,\n",
       "        5.85902230e-02, -3.26567128e+00, -1.51797092e+00, -2.04777058e-02])"
      ]
     },
     "execution_count": 12,
     "metadata": {},
     "output_type": "execute_result"
    }
   ],
   "source": [
    "poly_model.coef_"
   ]
  },
  {
   "cell_type": "markdown",
   "metadata": {},
   "source": [
    "**4)** Get the baseline score for both train/test sets (cross validation) for evaluation:"
   ]
  },
  {
   "cell_type": "code",
   "execution_count": 13,
   "metadata": {},
   "outputs": [
    {
     "data": {
      "text/plain": [
       "0.8362440444973249"
      ]
     },
     "execution_count": 13,
     "metadata": {},
     "output_type": "execute_result"
    }
   ],
   "source": [
    "#Look into train score\n",
    "cross_val_score(poly_model, X_train_sc, y_train, cv=5).mean()"
   ]
  },
  {
   "cell_type": "code",
   "execution_count": 14,
   "metadata": {},
   "outputs": [
    {
     "data": {
      "text/plain": [
       "0.8037105635840813"
      ]
     },
     "execution_count": 14,
     "metadata": {},
     "output_type": "execute_result"
    }
   ],
   "source": [
    "#Look into test score\n",
    "cross_val_score(poly_model, X_test_sc, y_test, cv=5).mean()"
   ]
  },
  {
   "cell_type": "markdown",
   "metadata": {},
   "source": [
    "**5)** Genereting model prediction and finding the line of best fit:"
   ]
  },
  {
   "cell_type": "code",
   "execution_count": 15,
   "metadata": {},
   "outputs": [],
   "source": [
    "#model predictions\n",
    "y_prediction_train = poly_model.predict(X_train_sc)"
   ]
  },
  {
   "cell_type": "code",
   "execution_count": 16,
   "metadata": {},
   "outputs": [],
   "source": [
    "#model predictions\n",
    "y_prediction_test = poly_model.predict(X_test_sc)"
   ]
  },
  {
   "cell_type": "code",
   "execution_count": 17,
   "metadata": {},
   "outputs": [
    {
     "data": {
      "text/plain": [
       "0.8691408623926159"
      ]
     },
     "execution_count": 17,
     "metadata": {},
     "output_type": "execute_result"
    }
   ],
   "source": [
    "metrics.r2_score(y_train, y_prediction_train)"
   ]
  },
  {
   "cell_type": "code",
   "execution_count": 18,
   "metadata": {},
   "outputs": [
    {
     "data": {
      "text/plain": [
       "0.8531784379632119"
      ]
     },
     "execution_count": 18,
     "metadata": {},
     "output_type": "execute_result"
    }
   ],
   "source": [
    "# 85% of the variance in the dependant variable can be exlained by this model.\n",
    "metrics.r2_score(y_test, y_prediction_test)"
   ]
  },
  {
   "cell_type": "code",
   "execution_count": 19,
   "metadata": {},
   "outputs": [],
   "source": [
    "residual_test = y_test - y_prediction_test"
   ]
  },
  {
   "cell_type": "code",
   "execution_count": 20,
   "metadata": {},
   "outputs": [],
   "source": [
    "residual_train = y_train - y_prediction_train"
   ]
  },
  {
   "cell_type": "markdown",
   "metadata": {},
   "source": [
    "Plotting residual to check if variance between our low predictions and our high predictions is considtent, the plot below shows that we need to bring more consistency between higher price & lower price prediction: "
   ]
  },
  {
   "cell_type": "code",
   "execution_count": 21,
   "metadata": {},
   "outputs": [
    {
     "data": {
      "image/png": "[encoded data removed]",
      "text/plain": [
       "<Figure size 432x288 with 1 Axes>"
      ]
     },
     "metadata": {
      "image/png": {
       "height": 248,
       "width": 375
      },
      "needs_background": "light"
     },
     "output_type": "display_data"
    }
   ],
   "source": [
    "plt.hist(residual_test, bins = 20, )\n",
    "plt.axvline(0, color = 'purple');\n",
    "plt.savefig('../plots/residual_hist.png')\n",
    "#plt.title('Residual (sale price  - actual vs predicted)', fontsize = 12);"
   ]
  },
  {
   "cell_type": "markdown",
   "metadata": {},
   "source": [
    "Comparison of Actual price vs Predicted price : indicates that our model is quite fit to explain the variance in price for middle range house prices, but is less precise for lower and higher price prediction: "
   ]
  },
  {
   "cell_type": "code",
   "execution_count": 43,
   "metadata": {},
   "outputs": [
    {
     "data": {
      "image/png": "[encoded data removed]",
      "text/plain": [
       "<Figure size 432x288 with 1 Axes>"
      ]
     },
     "metadata": {
      "image/png": {
       "height": 277,
       "width": 408
      },
      "needs_background": "light"
     },
     "output_type": "display_data"
    }
   ],
   "source": [
    "sns.regplot(np.exp(y_prediction_test), np.exp(y_test), color='purple')\n",
    "plt.xlabel(\" Predicted sale price\")\n",
    "plt.ylabel(\"Actual sale price\");\n",
    "plt.title(\"Actual vs Predicted price\", fontsize = 12);\n",
    "plt.savefig('../plots/prediction_actual.png')"
   ]
  },
  {
   "cell_type": "code",
   "execution_count": 23,
   "metadata": {},
   "outputs": [
    {
     "data": {
      "image/png": "[encoded data removed]",
      "text/plain": [
       "<Figure size 432x288 with 1 Axes>"
      ]
     },
     "metadata": {
      "image/png": {
       "height": 262,
       "width": 394
      },
      "needs_background": "light"
     },
     "output_type": "display_data"
    }
   ],
   "source": [
    "plt.scatter(np.exp(y_prediction_test), residual_test, color = 'purple')\n",
    "plt.axhline(0, color='b');\n",
    "plt.xlabel(\"residual_test\")\n",
    "plt.ylabel(\"prediction_test\")\n",
    "plt.savefig('../plots/prediction_residual.png')"
   ]
  },
  {
   "cell_type": "markdown",
   "metadata": {},
   "source": [
    "**Regression Metrics:** "
   ]
  },
  {
   "cell_type": "markdown",
   "metadata": {},
   "source": [
    "**MAE** shows by average our model is 0.11 point off:"
   ]
  },
  {
   "cell_type": "code",
   "execution_count": 27,
   "metadata": {},
   "outputs": [
    {
     "data": {
      "text/plain": [
       "0.10665083591206655"
      ]
     },
     "execution_count": 27,
     "metadata": {},
     "output_type": "execute_result"
    }
   ],
   "source": [
    "# TRAIN - Mean Absolute Error represents median distance from the predicted value.\n",
    "metrics.mean_absolute_error(y_train,y_prediction_train)"
   ]
  },
  {
   "cell_type": "code",
   "execution_count": 28,
   "metadata": {},
   "outputs": [
    {
     "data": {
      "text/plain": [
       "0.10727852586689708"
      ]
     },
     "execution_count": 28,
     "metadata": {},
     "output_type": "execute_result"
    }
   ],
   "source": [
    "#TEST - Mean Absolute Error represents median distance from the predicted value.\n",
    "metrics.mean_absolute_error(y_test,y_prediction_test)"
   ]
  },
  {
   "cell_type": "markdown",
   "metadata": {},
   "source": [
    "**MSE** is the average sum of all errors squared and should be as close to 0 as possible. our model shows a low MSE for both train /test sets. this indicates that the model is fairly fit."
   ]
  },
  {
   "cell_type": "code",
   "execution_count": 29,
   "metadata": {},
   "outputs": [
    {
     "data": {
      "text/plain": [
       "0.021695918664479032"
      ]
     },
     "execution_count": 29,
     "metadata": {},
     "output_type": "execute_result"
    }
   ],
   "source": [
    "# TRAIN - Mean Squarred Error represents avg distance squared from the predicted value.\n",
    "metrics.mean_squared_error(y_train, y_prediction_train)"
   ]
  },
  {
   "cell_type": "code",
   "execution_count": 30,
   "metadata": {},
   "outputs": [
    {
     "data": {
      "text/plain": [
       "0.026276784006557863"
      ]
     },
     "execution_count": 30,
     "metadata": {},
     "output_type": "execute_result"
    }
   ],
   "source": [
    "#TEST - Mean Squarred Error represents avg distance squared from the predicted value.\n",
    "metrics.mean_squared_error(y_test, y_prediction_test)"
   ]
  },
  {
   "cell_type": "markdown",
   "metadata": {},
   "source": [
    "**RMSE** the goal is always to get RMSE as close to 0 as possible - RMSE indicates that the model is approx off by +/-$27K when predicting the house's sale price."
   ]
  },
  {
   "cell_type": "code",
   "execution_count": 31,
   "metadata": {},
   "outputs": [
    {
     "data": {
      "text/plain": [
       "25932.056416049447"
      ]
     },
     "execution_count": 31,
     "metadata": {},
     "output_type": "execute_result"
    }
   ],
   "source": [
    "#TRAIN - Root Mean Squared Error represents avg distance from the predicted value.\n",
    "#using np.exp to inverse the log transform for saleprice\n",
    "np.sqrt(metrics.mean_squared_error(np.exp(y_test), np.exp(y_prediction_test)))"
   ]
  },
  {
   "cell_type": "code",
   "execution_count": 32,
   "metadata": {},
   "outputs": [
    {
     "data": {
      "text/plain": [
       "27129.552608784496"
      ]
     },
     "execution_count": 32,
     "metadata": {},
     "output_type": "execute_result"
    }
   ],
   "source": [
    "#TEST- Root Mean Squared Error represents avg distance from the predicted value.\n",
    "np.sqrt(metrics.mean_squared_error(np.exp(y_train), np.exp(y_prediction_train)))"
   ]
  },
  {
   "cell_type": "code",
   "execution_count": 33,
   "metadata": {},
   "outputs": [
    {
     "data": {
      "text/html": [
       "<table class=\"simpletable\">\n",
       "<caption>OLS Regression Results</caption>\n",
       "<tr>\n",
       "  <th>Dep. Variable:</th>        <td>saleprice</td>    <th>  R-squared (uncentered):</th>      <td>   1.000</td> \n",
       "</tr>\n",
       "<tr>\n",
       "  <th>Model:</th>                   <td>OLS</td>       <th>  Adj. R-squared (uncentered):</th> <td>   1.000</td> \n",
       "</tr>\n",
       "<tr>\n",
       "  <th>Method:</th>             <td>Least Squares</td>  <th>  F-statistic:       </th>          <td>1.257e+06</td>\n",
       "</tr>\n",
       "<tr>\n",
       "  <th>Date:</th>             <td>Sun, 19 Jan 2020</td> <th>  Prob (F-statistic):</th>           <td>  0.00</td>  \n",
       "</tr>\n",
       "<tr>\n",
       "  <th>Time:</th>                 <td>23:03:21</td>     <th>  Log-Likelihood:    </th>          <td>  706.10</td> \n",
       "</tr>\n",
       "<tr>\n",
       "  <th>No. Observations:</th>      <td>  2051</td>      <th>  AIC:               </th>          <td>  -1396.</td> \n",
       "</tr>\n",
       "<tr>\n",
       "  <th>Df Residuals:</th>          <td>  2043</td>      <th>  BIC:               </th>          <td>  -1351.</td> \n",
       "</tr>\n",
       "<tr>\n",
       "  <th>Df Model:</th>              <td>     8</td>      <th>                     </th>              <td> </td>    \n",
       "</tr>\n",
       "<tr>\n",
       "  <th>Covariance Type:</th>      <td>nonrobust</td>    <th>                     </th>              <td> </td>    \n",
       "</tr>\n",
       "</table>\n",
       "<table class=\"simpletable\">\n",
       "<tr>\n",
       "         <td></td>           <th>coef</th>     <th>std err</th>      <th>t</th>      <th>P>|t|</th>  <th>[0.025</th>    <th>0.975]</th>  \n",
       "</tr>\n",
       "<tr>\n",
       "  <th>overall_qual</th>   <td>    0.0963</td> <td>    0.004</td> <td>   25.889</td> <td> 0.000</td> <td>    0.089</td> <td>    0.104</td>\n",
       "</tr>\n",
       "<tr>\n",
       "  <th>gr_liv_area</th>    <td>    0.0002</td> <td> 1.63e-05</td> <td>   10.506</td> <td> 0.000</td> <td>    0.000</td> <td>    0.000</td>\n",
       "</tr>\n",
       "<tr>\n",
       "  <th>year_remod/add</th> <td>    0.0032</td> <td>    0.000</td> <td>   18.664</td> <td> 0.000</td> <td>    0.003</td> <td>    0.004</td>\n",
       "</tr>\n",
       "<tr>\n",
       "  <th>totrms_abvgrd</th>  <td>    0.0058</td> <td>    0.004</td> <td>    1.361</td> <td> 0.174</td> <td>   -0.003</td> <td>    0.014</td>\n",
       "</tr>\n",
       "<tr>\n",
       "  <th>garage_area</th>    <td>    0.0002</td> <td>  2.3e-05</td> <td>    9.315</td> <td> 0.000</td> <td>    0.000</td> <td>    0.000</td>\n",
       "</tr>\n",
       "<tr>\n",
       "  <th>1st_flr_sf</th>     <td>    0.0001</td> <td> 1.25e-05</td> <td>    9.573</td> <td> 0.000</td> <td> 9.53e-05</td> <td>    0.000</td>\n",
       "</tr>\n",
       "<tr>\n",
       "  <th>year_built</th>     <td>    0.0023</td> <td>    0.000</td> <td>   13.359</td> <td> 0.000</td> <td>    0.002</td> <td>    0.003</td>\n",
       "</tr>\n",
       "<tr>\n",
       "  <th>fireplaces</th>     <td>    0.0792</td> <td>    0.007</td> <td>   11.477</td> <td> 0.000</td> <td>    0.066</td> <td>    0.093</td>\n",
       "</tr>\n",
       "</table>\n",
       "<table class=\"simpletable\">\n",
       "<tr>\n",
       "  <th>Omnibus:</th>       <td>1561.963</td> <th>  Durbin-Watson:     </th> <td>   2.040</td> \n",
       "</tr>\n",
       "<tr>\n",
       "  <th>Prob(Omnibus):</th>  <td> 0.000</td>  <th>  Jarque-Bera (JB):  </th> <td>84293.109</td>\n",
       "</tr>\n",
       "<tr>\n",
       "  <th>Skew:</th>           <td>-3.070</td>  <th>  Prob(JB):          </th> <td>    0.00</td> \n",
       "</tr>\n",
       "<tr>\n",
       "  <th>Kurtosis:</th>       <td>33.801</td>  <th>  Cond. No.          </th> <td>6.27e+03</td> \n",
       "</tr>\n",
       "</table><br/><br/>Warnings:<br/>[1] Standard Errors assume that the covariance matrix of the errors is correctly specified.<br/>[2] The condition number is large, 6.27e+03. This might indicate that there are<br/>strong multicollinearity or other numerical problems."
      ],
      "text/plain": [
       "<class 'statsmodels.iolib.summary.Summary'>\n",
       "\"\"\"\n",
       "                                 OLS Regression Results                                \n",
       "=======================================================================================\n",
       "Dep. Variable:              saleprice   R-squared (uncentered):                   1.000\n",
       "Model:                            OLS   Adj. R-squared (uncentered):              1.000\n",
       "Method:                 Least Squares   F-statistic:                          1.257e+06\n",
       "Date:                Sun, 19 Jan 2020   Prob (F-statistic):                        0.00\n",
       "Time:                        23:03:21   Log-Likelihood:                          706.10\n",
       "No. Observations:                2051   AIC:                                     -1396.\n",
       "Df Residuals:                    2043   BIC:                                     -1351.\n",
       "Df Model:                           8                                                  \n",
       "Covariance Type:            nonrobust                                                  \n",
       "==================================================================================\n",
       "                     coef    std err          t      P>|t|      [0.025      0.975]\n",
       "----------------------------------------------------------------------------------\n",
       "overall_qual       0.0963      0.004     25.889      0.000       0.089       0.104\n",
       "gr_liv_area        0.0002   1.63e-05     10.506      0.000       0.000       0.000\n",
       "year_remod/add     0.0032      0.000     18.664      0.000       0.003       0.004\n",
       "totrms_abvgrd      0.0058      0.004      1.361      0.174      -0.003       0.014\n",
       "garage_area        0.0002    2.3e-05      9.315      0.000       0.000       0.000\n",
       "1st_flr_sf         0.0001   1.25e-05      9.573      0.000    9.53e-05       0.000\n",
       "year_built         0.0023      0.000     13.359      0.000       0.002       0.003\n",
       "fireplaces         0.0792      0.007     11.477      0.000       0.066       0.093\n",
       "==============================================================================\n",
       "Omnibus:                     1561.963   Durbin-Watson:                   2.040\n",
       "Prob(Omnibus):                  0.000   Jarque-Bera (JB):            84293.109\n",
       "Skew:                          -3.070   Prob(JB):                         0.00\n",
       "Kurtosis:                      33.801   Cond. No.                     6.27e+03\n",
       "==============================================================================\n",
       "\n",
       "Warnings:\n",
       "[1] Standard Errors assume that the covariance matrix of the errors is correctly specified.\n",
       "[2] The condition number is large, 6.27e+03. This might indicate that there are\n",
       "strong multicollinearity or other numerical problems.\n",
       "\"\"\""
      ]
     },
     "execution_count": 33,
     "metadata": {},
     "output_type": "execute_result"
    }
   ],
   "source": [
    "# Importing the stats model API\n",
    "import statsmodels.api as sm\n",
    "# The Default here is Linear Regression (ordinary least squares regression OLS)\n",
    "model = sm.OLS(y,X).fit()\n",
    "model.summary()"
   ]
  },
  {
   "cell_type": "markdown",
   "metadata": {},
   "source": [
    "Below cell shows the impact of each feature on property's sale price, for example,  if the house has a fireplace, we expect to see about 8% increase in the sale price."
   ]
  },
  {
   "cell_type": "code",
   "execution_count": null,
   "metadata": {},
   "outputs": [],
   "source": [
    "np.exp(model.params)"
   ]
  },
  {
   "cell_type": "code",
   "execution_count": null,
   "metadata": {},
   "outputs": [],
   "source": [
    "#sns.set(font_scale = 1.5, rc={\"figure.figsize\": (24, 18)})\n",
    "#sns.barplot(x=poly_model.coef_, y=X_train_sc.columns, palette='cool');\n",
    "#plt.savefig('./linear_coef.png');"
   ]
  },
  {
   "cell_type": "markdown",
   "metadata": {},
   "source": [
    "### Conclusion and Recommendations:\n",
    "\n",
    "As of now **`85.3%`** of variance in the sale price can be explained by this model, indicating that the model is just right. In other words,  model can generalize from train/test data to predict the house value, with **`+/-$27K`** price error. This model is built using numeric datasets, and can be improved by leveraging feature engineerign to include few key features like Neighborhood  by leveraincluding some key features like Neighborgood, style and materials. Nevertheless, this model can be used for the following purposes:<br>\n",
    "\n",
    "<>**Prediction**<> <br>\n",
    "This model can be used for any dataset that includes similar attributes on house features to predict the property's selling price.<br>\n",
    "\n",
    "<>**Inference**<> <br>\n",
    "This model can be used to outline and test some of the most important factors/features that influence house's value. "
   ]
  },
  {
   "cell_type": "code",
   "execution_count": null,
   "metadata": {},
   "outputs": [],
   "source": [
    "pickle.dump(poly_model, open('finalmodel_pickled.sav', 'wb'))"
   ]
  },
  {
   "cell_type": "code",
   "execution_count": null,
   "metadata": {},
   "outputs": [],
   "source": []
  },
  {
   "cell_type": "code",
   "execution_count": null,
   "metadata": {},
   "outputs": [],
   "source": []
  }
 ],
 "metadata": {
  "kernelspec": {
   "display_name": "Python 3",
   "language": "python",
   "name": "python3"
  },
  "language_info": {
   "codemirror_mode": {
    "name": "ipython",
    "version": 3
   },
   "file_extension": ".py",
   "mimetype": "text/x-python",
   "name": "python",
   "nbconvert_exporter": "python",
   "pygments_lexer": "ipython3",
   "version": "3.7.4"
  }
 },
 "nbformat": 4,
 "nbformat_minor": 4
}
